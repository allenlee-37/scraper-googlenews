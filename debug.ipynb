{
 "cells": [
  {
   "cell_type": "code",
   "execution_count": 3,
   "metadata": {},
   "outputs": [
    {
     "name": "stderr",
     "output_type": "stream",
     "text": [
      "/var/folders/v8/h6d7gvr914n2j3pr46ww1d_00000gn/T/ipykernel_77493/3524102783.py:14: DeprecationWarning: executable_path has been deprecated, please pass in a Service object\n",
      "  driver = webdriver.Chrome('/Users/master/dev/PythonPr/news-crawler/driver/chromedriver') #chrome_options=options)\n"
     ]
    },
    {
     "name": "stdout",
     "output_type": "stream",
     "text": [
      "url 개수: 27\n",
      "title 개수: 27\n"
     ]
    }
   ],
   "source": [
    "import argparse\n",
    "import os\n",
    "from selenium import webdriver\n",
    "from selenium.webdriver.common.by import By\n",
    "import pandas as pd\n",
    "from tqdm import tqdm\n",
    "from bs4 import BeautifulSoup\n",
    "from datetime import datetime\n",
    "\n",
    "keyword = 'korean recipe'\n",
    "\n",
    "url = 'https://news.google.com/home?hl=en-US&gl=US&ceid=US:en'\n",
    "# 크롬 드라이버 실행\n",
    "driver = webdriver.Chrome('/Users/master/dev/PythonPr/news-crawler/driver/chromedriver') #chrome_options=options)\n",
    "driver.implicitly_wait(2)\n",
    "# url 가져오기\n",
    "driver.get(url)\n",
    "\n",
    "# 검색창 찾기: search_box\n",
    "search_box = driver.find_element(By.XPATH, '//*[@id=\"gb\"]/div[2]/div[2]/div[2]/form/div[1]/div/div/div/div/div[1]/input[2]')\n",
    "# 검색어 입력: 1년간 결과 검색\n",
    "search_box.send_keys(f'\"{keyword}\" when:1y')\n",
    "# 검색창 클릭\n",
    "driver.find_element(By.XPATH, '//*[@id=\"gb\"]/div[2]/div[2]/div[2]/form/button[4]').click()\n",
    "driver.implicitly_wait(3)\n",
    "\n",
    "# url의 리스트 만들기\n",
    "# 기사 요약 링크가 있는 div에서 출발해서 a 태그 끌고 온다. \n",
    "url_list = driver.find_elements(By.XPATH, '//div[@class=\"NiLAwe y6IFtc R7GTQ keNKEd j7vNaf nID9nc\"]/a')\n",
    "urls = [url_elem.get_attribute('href') for url_elem in url_list] # href attribute를 가져온다.\n",
    "print(f'url 개수: {len(urls)}')\n",
    "\n",
    "# 기사 제목의 리스트 만들기\n",
    "# url을 끌고 온 div와 같은 위치에서 출발해서 h3을 끌고 온다.\n",
    "title_list = driver.find_elements(By.XPATH, '//div[@class=\"NiLAwe y6IFtc R7GTQ keNKEd j7vNaf nID9nc\"]/div[1]/article/h3')\n",
    "titles = [title_elem.text for title_elem in title_list] # text attribute를 가져온다. \n",
    "print(f'title 개수: {len(titles)}') "
   ]
  },
  {
   "cell_type": "code",
   "execution_count": 4,
   "metadata": {},
   "outputs": [
    {
     "data": {
      "text/plain": [
       "['Try this recipe for Korean omelette-rice for a comforting weekend meal',\n",
       " 'Korean recipe: Bacon-Fat Kimchi Jeon',\n",
       " 'Korean recipe: Crispy Lemon-Pepper Bulgogi with Quick-Pickled Shallots',\n",
       " \"What's a croffle? This mall vendor is the only place in Tucson to get ...\",\n",
       " 'Beef Bulgogi (Easy Korean Recipe) - Insanely Good',\n",
       " 'This New Korean Restaurant Is Translating Ancient Dishes for ...',\n",
       " 'Opinion | Yang Yum: Secret Korean Recipe in Waterloo delivers the ...',\n",
       " 'Korean Bean Sprout Salad Recipe (Sukju Namul Muchim): A Crispy & Tasty Side Dish Recipe',\n",
       " 'How To Make Korean Corn Dog For Weekend Indulgence',\n",
       " 'Love Korean Food? Try Out The Recipe Of Veg Spicy Korean Rice Cakes (Tteok-Bokki), Video Inside',\n",
       " 'What is kimchi and how to use it',\n",
       " 'A Complete Guide To The Disneyland California Adventure Food ...',\n",
       " 'Food Writer Eric Kim Is Redefining What It Means to Be Korean American',\n",
       " \"Emily 'Maangchi' Kim Talks The New York Times Food Festival ...\",\n",
       " 'These savory and sweet Korean-style barbecue short ribs are so ...',\n",
       " 'Pressure Aid Reveiws (Peak Biome) Ingredients, Side Effects, Blood ...',\n",
       " \"Aubserver Mailbag 113: The Team That Won't Die\",\n",
       " 'London friends fed up of hangovers so they created ancient Korean recipe to prevent them',\n",
       " 'How The Famed Korean Fried Chicken Evolved Over Time',\n",
       " \"Downtown Knoxville's Pretentious, Seoul Brothers partner on new ...\",\n",
       " '“K-chicken wave” takes world by storm : International : News',\n",
       " \"Chef Kunal Kapoor's Vegetarian Kimchi Recipe Is A Steal\",\n",
       " \"[FOOD COURT] The best places to eat near Sookmyung Women's ...\",\n",
       " 'The Origins Of Black Garlic',\n",
       " 'Peak Biome Pressure Aid Reviewed',\n",
       " 'New Waterloo Region resto brings the flavours and colours of spring',\n",
       " 'Rebecca Lim is Officially Married & Would Be Staying at Her ...']"
      ]
     },
     "execution_count": 4,
     "metadata": {},
     "output_type": "execute_result"
    }
   ],
   "source": [
    "titles"
   ]
  },
  {
   "cell_type": "code",
   "execution_count": null,
   "metadata": {},
   "outputs": [],
   "source": []
  }
 ],
 "metadata": {
  "kernelspec": {
   "display_name": ".venvCrawler",
   "language": "python",
   "name": "python3"
  },
  "language_info": {
   "codemirror_mode": {
    "name": "ipython",
    "version": 3
   },
   "file_extension": ".py",
   "mimetype": "text/x-python",
   "name": "python",
   "nbconvert_exporter": "python",
   "pygments_lexer": "ipython3",
   "version": "3.9.6"
  },
  "orig_nbformat": 4
 },
 "nbformat": 4,
 "nbformat_minor": 2
}
