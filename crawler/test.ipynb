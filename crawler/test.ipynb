{
 "cells": [
  {
   "cell_type": "code",
   "execution_count": 17,
   "metadata": {},
   "outputs": [],
   "source": [
    "from selenium import webdriver\n",
    "from selenium.webdriver.common.by import By\n",
    "import pandas as pd\n",
    "from tqdm import tqdm\n",
    "from bs4 import BeautifulSoup\n",
    "\n",
    "\n",
    "'''keyword 설정'''\n",
    "keyword = 'Korean food'\n",
    "\n",
    "# Headless로 실행\n",
    "#options = webdriver.ChromeOptions()\n",
    "#options.add_argument('headless')\n",
    "#options.add_argument('window-size=1920x1080')\n",
    "#options.add_argument('disable-gpu')"
   ]
  },
  {
   "cell_type": "code",
   "execution_count": 6,
   "metadata": {},
   "outputs": [
    {
     "name": "stderr",
     "output_type": "stream",
     "text": [
      "/var/folders/v8/h6d7gvr914n2j3pr46ww1d_00000gn/T/ipykernel_3523/3348947379.py:8: DeprecationWarning: executable_path has been deprecated, please pass in a Service object\n",
      "  driver = webdriver.Chrome('/Users/master/dev/PythonPr/news-crawler/driver/chromedriver')\n"
     ]
    }
   ],
   "source": [
    "'''\n",
    "1. Google news에서 keyword 결과값을 검색\n",
    "2. 검색한 기사 결과의 url을 리스트로 반환\n",
    "'''   \n",
    "# 목표 url: 구글 뉴스\n",
    "url = 'https://news.google.com/home?hl=en-US&gl=US&ceid=US:en'\n",
    "# 크롬 드라이버 실행\n",
    "driver = webdriver.Chrome('/Users/master/dev/PythonPr/news-crawler/driver/chromedriver')\n",
    "driver.implicitly_wait(2)\n",
    "\n",
    "# url 가져오기\n",
    "driver.get(url)"
   ]
  },
  {
   "cell_type": "code",
   "execution_count": 7,
   "metadata": {},
   "outputs": [],
   "source": [
    "\n",
    "# 검색창 찾기: search_box\n",
    "search_box = driver.find_element(By.XPATH, '//*[@id=\"gb\"]/div[2]/div[2]/div[2]/form/div[1]/div/div/div/div/div[1]/input[2]')\n",
    "# 검색어 입력: 1년간 결과 검색\n",
    "search_box.send_keys(f'\"{keyword}\" when:1y')\n",
    "# 검색창 클릭\n",
    "driver.find_element(By.XPATH, '//*[@id=\"gb\"]/div[2]/div[2]/div[2]/form/button[4]').click()\n",
    "driver.implicitly_wait(3)"
   ]
  },
  {
   "cell_type": "code",
   "execution_count": 26,
   "metadata": {},
   "outputs": [],
   "source": [
    "# 각 기사 element 가져오기\n",
    "articles = driver.find_elements(By.CSS_SELECTOR, 'div.NiLAwe.y6IFtc.R7GTQ.keNKEd.j7vNaf.nID9nc')\n",
    "# /html/body/c-wiz[2]/div/div[2]/div[2]/div/main/c-wiz/div[1]/div[4]\n",
    "# //*[@id=\"yDmH0d\"]/c-wiz[2]/div/div[2]/div[2]/div/main/c-wiz/div[1]/div[4]\n",
    "\n",
    "#yDmH0d > c-wiz:nth-child(25) > div > div.FVeGwb.CVnAc.Haq2Hf.bWfURe > div.ajwQHc.BL5WZb.RELBvb"
   ]
  },
  {
   "cell_type": "code",
   "execution_count": 38,
   "metadata": {},
   "outputs": [],
   "source": [
    "article0 = articles[0]"
   ]
  },
  {
   "cell_type": "code",
   "execution_count": 40,
   "metadata": {},
   "outputs": [
    {
     "ename": "NoSuchElementException",
     "evalue": "Message: no such element: Unable to locate element: {\"method\":\"css selector\",\"selector\":\"href\"}\n  (Session info: chrome=111.0.5563.64)\nStacktrace:\n0   chromedriver                        0x000000010282ad3c chromedriver + 4222268\n1   chromedriver                        0x00000001027b18e8 chromedriver + 3725544\n2   chromedriver                        0x0000000102467da4 chromedriver + 277924\n3   chromedriver                        0x00000001024a31b8 chromedriver + 520632\n4   chromedriver                        0x00000001024971b0 chromedriver + 471472\n5   chromedriver                        0x00000001024db618 chromedriver + 751128\n6   chromedriver                        0x00000001024958f0 chromedriver + 465136\n7   chromedriver                        0x0000000102496974 chromedriver + 469364\n8   chromedriver                        0x00000001027fb788 chromedriver + 4028296\n9   chromedriver                        0x00000001027ffc1c chromedriver + 4045852\n10  chromedriver                        0x0000000102805c98 chromedriver + 4070552\n11  chromedriver                        0x00000001028008d8 chromedriver + 4049112\n12  chromedriver                        0x00000001027d7d84 chromedriver + 3882372\n13  chromedriver                        0x000000010281e720 chromedriver + 4171552\n14  chromedriver                        0x000000010281e878 chromedriver + 4171896\n15  chromedriver                        0x0000000102832014 chromedriver + 4251668\n16  libsystem_pthread.dylib             0x0000000199b9e06c _pthread_start + 148\n17  libsystem_pthread.dylib             0x0000000199b98e2c thread_start + 8\n",
     "output_type": "error",
     "traceback": [
      "\u001b[0;31m---------------------------------------------------------------------------\u001b[0m",
      "\u001b[0;31mNoSuchElementException\u001b[0m                    Traceback (most recent call last)",
      "Cell \u001b[0;32mIn[40], line 1\u001b[0m\n\u001b[0;32m----> 1\u001b[0m article0\u001b[39m.\u001b[39;49mfind_element(By\u001b[39m.\u001b[39;49mCSS_SELECTOR, \u001b[39m'\u001b[39;49m\u001b[39mhref\u001b[39;49m\u001b[39m'\u001b[39;49m)\u001b[39m.\u001b[39mtext\n",
      "File \u001b[0;32m~/dev/PythonPr/news-crawler/.venvCrawler/lib/python3.9/site-packages/selenium/webdriver/remote/webelement.py:425\u001b[0m, in \u001b[0;36mWebElement.find_element\u001b[0;34m(self, by, value)\u001b[0m\n\u001b[1;32m    422\u001b[0m     by \u001b[39m=\u001b[39m By\u001b[39m.\u001b[39mCSS_SELECTOR\n\u001b[1;32m    423\u001b[0m     value \u001b[39m=\u001b[39m \u001b[39mf\u001b[39m\u001b[39m'\u001b[39m\u001b[39m[name=\u001b[39m\u001b[39m\"\u001b[39m\u001b[39m{\u001b[39;00mvalue\u001b[39m}\u001b[39;00m\u001b[39m\"\u001b[39m\u001b[39m]\u001b[39m\u001b[39m'\u001b[39m\n\u001b[0;32m--> 425\u001b[0m \u001b[39mreturn\u001b[39;00m \u001b[39mself\u001b[39;49m\u001b[39m.\u001b[39;49m_execute(Command\u001b[39m.\u001b[39;49mFIND_CHILD_ELEMENT, {\u001b[39m\"\u001b[39;49m\u001b[39musing\u001b[39;49m\u001b[39m\"\u001b[39;49m: by, \u001b[39m\"\u001b[39;49m\u001b[39mvalue\u001b[39;49m\u001b[39m\"\u001b[39;49m: value})[\u001b[39m\"\u001b[39m\u001b[39mvalue\u001b[39m\u001b[39m\"\u001b[39m]\n",
      "File \u001b[0;32m~/dev/PythonPr/news-crawler/.venvCrawler/lib/python3.9/site-packages/selenium/webdriver/remote/webelement.py:403\u001b[0m, in \u001b[0;36mWebElement._execute\u001b[0;34m(self, command, params)\u001b[0m\n\u001b[1;32m    401\u001b[0m     params \u001b[39m=\u001b[39m {}\n\u001b[1;32m    402\u001b[0m params[\u001b[39m\"\u001b[39m\u001b[39mid\u001b[39m\u001b[39m\"\u001b[39m] \u001b[39m=\u001b[39m \u001b[39mself\u001b[39m\u001b[39m.\u001b[39m_id\n\u001b[0;32m--> 403\u001b[0m \u001b[39mreturn\u001b[39;00m \u001b[39mself\u001b[39;49m\u001b[39m.\u001b[39;49m_parent\u001b[39m.\u001b[39;49mexecute(command, params)\n",
      "File \u001b[0;32m~/dev/PythonPr/news-crawler/.venvCrawler/lib/python3.9/site-packages/selenium/webdriver/remote/webdriver.py:440\u001b[0m, in \u001b[0;36mWebDriver.execute\u001b[0;34m(self, driver_command, params)\u001b[0m\n\u001b[1;32m    438\u001b[0m response \u001b[39m=\u001b[39m \u001b[39mself\u001b[39m\u001b[39m.\u001b[39mcommand_executor\u001b[39m.\u001b[39mexecute(driver_command, params)\n\u001b[1;32m    439\u001b[0m \u001b[39mif\u001b[39;00m response:\n\u001b[0;32m--> 440\u001b[0m     \u001b[39mself\u001b[39;49m\u001b[39m.\u001b[39;49merror_handler\u001b[39m.\u001b[39;49mcheck_response(response)\n\u001b[1;32m    441\u001b[0m     response[\u001b[39m\"\u001b[39m\u001b[39mvalue\u001b[39m\u001b[39m\"\u001b[39m] \u001b[39m=\u001b[39m \u001b[39mself\u001b[39m\u001b[39m.\u001b[39m_unwrap_value(response\u001b[39m.\u001b[39mget(\u001b[39m\"\u001b[39m\u001b[39mvalue\u001b[39m\u001b[39m\"\u001b[39m, \u001b[39mNone\u001b[39;00m))\n\u001b[1;32m    442\u001b[0m     \u001b[39mreturn\u001b[39;00m response\n",
      "File \u001b[0;32m~/dev/PythonPr/news-crawler/.venvCrawler/lib/python3.9/site-packages/selenium/webdriver/remote/errorhandler.py:245\u001b[0m, in \u001b[0;36mErrorHandler.check_response\u001b[0;34m(self, response)\u001b[0m\n\u001b[1;32m    243\u001b[0m         alert_text \u001b[39m=\u001b[39m value[\u001b[39m\"\u001b[39m\u001b[39malert\u001b[39m\u001b[39m\"\u001b[39m]\u001b[39m.\u001b[39mget(\u001b[39m\"\u001b[39m\u001b[39mtext\u001b[39m\u001b[39m\"\u001b[39m)\n\u001b[1;32m    244\u001b[0m     \u001b[39mraise\u001b[39;00m exception_class(message, screen, stacktrace, alert_text)  \u001b[39m# type: ignore[call-arg]  # mypy is not smart enough here\u001b[39;00m\n\u001b[0;32m--> 245\u001b[0m \u001b[39mraise\u001b[39;00m exception_class(message, screen, stacktrace)\n",
      "\u001b[0;31mNoSuchElementException\u001b[0m: Message: no such element: Unable to locate element: {\"method\":\"css selector\",\"selector\":\"href\"}\n  (Session info: chrome=111.0.5563.64)\nStacktrace:\n0   chromedriver                        0x000000010282ad3c chromedriver + 4222268\n1   chromedriver                        0x00000001027b18e8 chromedriver + 3725544\n2   chromedriver                        0x0000000102467da4 chromedriver + 277924\n3   chromedriver                        0x00000001024a31b8 chromedriver + 520632\n4   chromedriver                        0x00000001024971b0 chromedriver + 471472\n5   chromedriver                        0x00000001024db618 chromedriver + 751128\n6   chromedriver                        0x00000001024958f0 chromedriver + 465136\n7   chromedriver                        0x0000000102496974 chromedriver + 469364\n8   chromedriver                        0x00000001027fb788 chromedriver + 4028296\n9   chromedriver                        0x00000001027ffc1c chromedriver + 4045852\n10  chromedriver                        0x0000000102805c98 chromedriver + 4070552\n11  chromedriver                        0x00000001028008d8 chromedriver + 4049112\n12  chromedriver                        0x00000001027d7d84 chromedriver + 3882372\n13  chromedriver                        0x000000010281e720 chromedriver + 4171552\n14  chromedriver                        0x000000010281e878 chromedriver + 4171896\n15  chromedriver                        0x0000000102832014 chromedriver + 4251668\n16  libsystem_pthread.dylib             0x0000000199b9e06c _pthread_start + 148\n17  libsystem_pthread.dylib             0x0000000199b98e2c thread_start + 8\n"
     ]
    }
   ],
   "source": [
    "article0.find_element(By.CSS_SELECTOR, 'href').text"
   ]
  },
  {
   "cell_type": "code",
   "execution_count": null,
   "metadata": {},
   "outputs": [],
   "source": [
    "soup = BeautifulSoup(article0.get_attribute('innerHTML'), 'html.parser')"
   ]
  },
  {
   "cell_type": "code",
   "execution_count": null,
   "metadata": {},
   "outputs": [],
   "source": []
  },
  {
   "cell_type": "code",
   "execution_count": 31,
   "metadata": {},
   "outputs": [
    {
     "name": "stdout",
     "output_type": "stream",
     "text": [
      "<a aria-labelledby=\"c9\" href=\"./articles/CBMiaWh0dHBzOi8vY3czMy5jb20vbmV3cy9sb2NhbC9rb3JlYW4tZm9vZC1jaGFpbi1ib25jaG9uLXJlbGVhc2VzLXR3by1uZXctZmFuLWZhdm9yaXRlcy1maW5kLXRoZW0taW4tZGFsbGFzL9IBbWh0dHBzOi8vY3czMy5jb20vbmV3cy9sb2NhbC9rb3JlYW4tZm9vZC1jaGFpbi1ib25jaG9uLXJlbGVhc2VzLXR3by1uZXctZmFuLWZhdm9yaXRlcy1maW5kLXRoZW0taW4tZGFsbGFzL2FtcC8?hl=en-US&amp;gl=US&amp;ceid=US%3Aen\" tabindex=\"-1\" target=\"_blank\">\n",
      " <figure class=\"AZtY5d fvuwob d7hoq\" jsaction=\"error:HLDri\" jscontroller=\"dAR81\">\n",
      "  <img alt=\"\" aria-label=\"Image\" class=\"tvs3Id QwxBBf\" id=\"c9\" jslog=\"131347\" loading=\"lazy\" src=\"https://lh3.googleusercontent.com/proxy/xjx4TLrjj2go8VsLILld6WLJjQ4ZOFo9Z_AGGPoO2faTffmk1G4cb3gxgX_Ie2IeSiHDZt16ZaSfMIoiEvoLvLW84Lo1O32VVvT6QImDsQCyMGPNEATvRONamXABv-FgLIFIziO8FYTtSZFchO2znA=w100-h100-rw-dcDVKQaKkH\" srcset=\"https://lh3.googleusercontent.com/proxy/xjx4TLrjj2go8VsLILld6WLJjQ4ZOFo9Z_AGGPoO2faTffmk1G4cb3gxgX_Ie2IeSiHDZt16ZaSfMIoiEvoLvLW84Lo1O32VVvT6QImDsQCyMGPNEATvRONamXABv-FgLIFIziO8FYTtSZFchO2znA=w100-h100-rw-dcDVKQaKkH 1x, https://lh3.googleusercontent.com/proxy/xjx4TLrjj2go8VsLILld6WLJjQ4ZOFo9Z_AGGPoO2faTffmk1G4cb3gxgX_Ie2IeSiHDZt16ZaSfMIoiEvoLvLW84Lo1O32VVvT6QImDsQCyMGPNEATvRONamXABv-FgLIFIziO8FYTtSZFchO2znA=w200-h200-rw-dcDVKQaKkH 2x\"/>\n",
      " </figure>\n",
      "</a>\n",
      "<div class=\"xrnccd\">\n",
      " <article class=\"MQsxIb xTewfe R7GTQ keNKEd j7vNaf Cc0Z5d EjqUne\" data-kind=\"13\" data-n-cvid=\"c10\" data-n-et=\"107\" data-n-ham=\"true\" jsaction=\";rcuQ6b:npT2md; click:KjsqPd;\" jscontroller=\"HyhIue\" jsdata=\"oM6qxc;CBMiaWh0dHBzOi8vY3czMy5jb20vbmV3cy9sb2NhbC9rb3JlYW4tZm9vZC1jaGFpbi1ib25jaG9uLXJlbGVhc2VzLXR3by1uZXctZmFuLWZhdm9yaXRlcy1maW5kLXRoZW0taW4tZGFsbGFzL9IBbWh0dHBzOi8vY3czMy5jb20vbmV3cy9sb2NhbC9rb3JlYW4tZm9vZC1jaGFpbi1ib25jaG9uLXJlbGVhc2VzLXR3by1uZXctZmFuLWZhdm9yaXRlcy1maW5kLXRoZW0taW4tZGFsbGFzL2FtcC8;$4\" jslog=\"85008; 3:W251bGwsbnVsbCxudWxsLG51bGwsIiIsbnVsbCwxNDEsbnVsbCxudWxsLG51bGwsMzcsbnVsbCxbbnVsbCxudWxsLG51bGwsbnVsbCxudWxsLG51bGwsbnVsbCxudWxsLG51bGwsbnVsbCxudWxsLG51bGwsbnVsbCxudWxsLG51bGwsbnVsbCxudWxsLG51bGwsbnVsbCxudWxsLG51bGwsbnVsbCxudWxsLG51bGwsbnVsbCxudWxsLG51bGwsbnVsbCxudWxsLCI3OTAxNDI4MjgyMDIzNjIxNzU5IiwiMTI1NDY3OTkwNTYwMjg0NzE3MDEiLCJodHRwczovL2N3MzMuY29tL3dwLWNvbnRlbnQvdXBsb2Fkcy9zaXRlcy84LzIwMjMvMDMvQm9uY2hvbl9CdWxnb2dpX0ZyaWVzLmpwZz9zdHJpcD0xIl0sbnVsbCxudWxsLDEsbnVsbCxudWxsLG51bGwsbnVsbCxbXSxbbnVsbCwzXSxbWzE2Nzk0MDc5MjFdLFsxNjc5NTM0MjUzLDgwNTUyNjAwMF1dXQ==; track:vis; index:0\" jsmodel=\"a4N6Ae hT8rr\" ve-visible=\"true\">\n",
      "  <a aria-hidden=\"true\" class=\"VDXfz\" href=\"./articles/CBMiaWh0dHBzOi8vY3czMy5jb20vbmV3cy9sb2NhbC9rb3JlYW4tZm9vZC1jaGFpbi1ib25jaG9uLXJlbGVhc2VzLXR3by1uZXctZmFuLWZhdm9yaXRlcy1maW5kLXRoZW0taW4tZGFsbGFzL9IBbWh0dHBzOi8vY3czMy5jb20vbmV3cy9sb2NhbC9rb3JlYW4tZm9vZC1jaGFpbi1ib25jaG9uLXJlbGVhc2VzLXR3by1uZXctZmFuLWZhdm9yaXRlcy1maW5kLXRoZW0taW4tZGFsbGFzL2FtcC8?hl=en-US&amp;gl=US&amp;ceid=US%3Aen\" jslog=\"95014; 5:W251bGwsbnVsbCxudWxsLG51bGwsbnVsbCxudWxsLG51bGwsbnVsbCwiaHR0cHM6Ly9jdzMzLmNvbS9uZXdzL2xvY2FsL2tvcmVhbi1mb29kLWNoYWluLWJvbmNob24tcmVsZWFzZXMtdHdvLW5ldy1mYW4tZmF2b3JpdGVzLWZpbmQtdGhlbS1pbi1kYWxsYXMvIixudWxsLG51bGwsW11d; track:click,vis\" jsname=\"hXwDdf\" tabindex=\"-1\" target=\"_blank\">\n",
      "  </a>\n",
      "  <div class=\"wsLqz RD0gLb\">\n",
      "   <img alt=\"CW33 Dallas\" aria-label=\"Image - CW33 Dallas\" class=\"tvs3Id tvs3Id lqNvvd ICvKtf WfKKme IGhidc\" loading=\"lazy\" src=\"https://lh3.googleusercontent.com/proxy/SG3wh4rxHXgZHT7qAp9T4s22ISEbOY0TDCO67uKOMaSnz0G3n6f4bLjt_WAkjS_lrtmnkhBe95g58oTozb2aIH5kDPvcPqz3a4lM2HQjAcHziLQCgDTRXE-8aURFiTwYxJK5PUQ6gUaQrM8Fsv8JdkdvnBwV3ohh8A0B8qin-TeTMZ19J0FT0TrDgg=h14-rw\" srcset=\"https://lh3.googleusercontent.com/proxy/SG3wh4rxHXgZHT7qAp9T4s22ISEbOY0TDCO67uKOMaSnz0G3n6f4bLjt_WAkjS_lrtmnkhBe95g58oTozb2aIH5kDPvcPqz3a4lM2HQjAcHziLQCgDTRXE-8aURFiTwYxJK5PUQ6gUaQrM8Fsv8JdkdvnBwV3ohh8A0B8qin-TeTMZ19J0FT0TrDgg=h14-rw 1x, https://lh3.googleusercontent.com/proxy/SG3wh4rxHXgZHT7qAp9T4s22ISEbOY0TDCO67uKOMaSnz0G3n6f4bLjt_WAkjS_lrtmnkhBe95g58oTozb2aIH5kDPvcPqz3a4lM2HQjAcHziLQCgDTRXE-8aURFiTwYxJK5PUQ6gUaQrM8Fsv8JdkdvnBwV3ohh8A0B8qin-TeTMZ19J0FT0TrDgg=h28-rw 2x\"/>\n",
      "   <img alt=\"CW33 Dallas\" aria-label=\"Image - CW33 Dallas\" class=\"tvs3Id tvs3Id lqNvvd lITmO WfKKme\" jsname=\"mgY0Ed\" loading=\"lazy\" src=\"https://encrypted-tbn2.gstatic.com/faviconV2?url=https://cw33.com&amp;client=NEWS_360&amp;size=96&amp;type=FAVICON&amp;fallback_opts=TYPE,SIZE,URL\" srcset=\"https://encrypted-tbn2.gstatic.com/faviconV2?url=https://cw33.com&amp;client=NEWS_360&amp;size=96&amp;type=FAVICON&amp;fallback_opts=TYPE,SIZE,URL 1x, https://encrypted-tbn2.gstatic.com/faviconV2?url=https://cw33.com&amp;client=NEWS_360&amp;size=96&amp;type=FAVICON&amp;fallback_opts=TYPE,SIZE,URL 2x\"/>\n",
      "   <a class=\"wEwyrc AVN2gc WfKKme\" data-n-tid=\"9\">\n",
      "    CW33 Dallas\n",
      "   </a>\n",
      "  </div>\n",
      "  <h3 class=\"ipQwMb ekueJc RD0gLb\">\n",
      "   <a class=\"DY5T1d RZIKme\" href=\"./articles/CBMiaWh0dHBzOi8vY3czMy5jb20vbmV3cy9sb2NhbC9rb3JlYW4tZm9vZC1jaGFpbi1ib25jaG9uLXJlbGVhc2VzLXR3by1uZXctZmFuLWZhdm9yaXRlcy1maW5kLXRoZW0taW4tZGFsbGFzL9IBbWh0dHBzOi8vY3czMy5jb20vbmV3cy9sb2NhbC9rb3JlYW4tZm9vZC1jaGFpbi1ib25jaG9uLXJlbGVhc2VzLXR3by1uZXctZmFuLWZhdm9yaXRlcy1maW5kLXRoZW0taW4tZGFsbGFzL2FtcC8?hl=en-US&amp;gl=US&amp;ceid=US%3Aen\" target=\"_blank\">\n",
      "    Korean food chain Bonchon releases two new fan favorites: Find them in Dallas\n",
      "   </a>\n",
      "  </h3>\n",
      "  <div class=\"QmrVtf RD0gLb kybdz\">\n",
      "   <div class=\"SVJrMe\" jsname=\"Hn1wIf\">\n",
      "    <svg class=\"N3ElHc eLNT1d uQIVzc NMm5M\" focusable=\"false\" height=\"18\" viewbox=\"0 0 24 24\" width=\"18\">\n",
      "     <path d=\"M0 0h24v24H0V0z\" fill=\"none\">\n",
      "     </path>\n",
      "     <path d=\"M21.58 7.19c-.23-.86-.91-1.54-1.77-1.77C18.25 5 12 5 12 5s-6.25 0-7.81.42c-.86.23-1.54.91-1.77 1.77C2 8.75 2 12 2 12s0 3.25.42 4.81c.23.86.91 1.54 1.77 1.77C5.75 19 12 19 12 19s6.25 0 7.81-.42c.86-.23 1.54-.91 1.77-1.77C22 15.25 22 12 22 12s0-3.25-.42-4.81zM10 15V9l5.2 3-5.2 3z\">\n",
      "     </path>\n",
      "    </svg>\n",
      "    <time class=\"WW6dff uQIVzc Sksgp slhocf\" datetime=\"2023-03-21T14:12:01Z\">\n",
      "     2 days ago\n",
      "    </time>\n",
      "   </div>\n",
      "   <menu class=\"fmkQje gXqRq\">\n",
      "    <div class=\"OGsJDe L8PZAb R71ogd\" data-n-ca-at=\"2\" data-n-et=\"1000\" data-n-ssice=\"false\" data-n-st=\"bookmark\" data-n-suwu=\"false\" jsaction=\"rcuQ6b:npT2md;JIbuQc:h5M12e;eEPUnd:h5M12e;YohPuc:CE7Jad;qW1nqe:kjc9zd;\" jscontroller=\"pQWkX\" jsdata=\"oM6qxc;CBMiaWh0dHBzOi8vY3czMy5jb20vbmV3cy9sb2NhbC9rb3JlYW4tZm9vZC1jaGFpbi1ib25jaG9uLXJlbGVhc2VzLXR3by1uZXctZmFuLWZhdm9yaXRlcy1maW5kLXRoZW0taW4tZGFsbGFzL9IBbWh0dHBzOi8vY3czMy5jb20vbmV3cy9sb2NhbC9rb3JlYW4tZm9vZC1jaGFpbi1ib25jaG9uLXJlbGVhc2VzLXR3by1uZXctZmFuLWZhdm9yaXRlcy1maW5kLXRoZW0taW4tZGFsbGFzL2FtcC8;$5\" jslog=\"93376; 3:W251bGwsbnVsbCxudWxsLG51bGwsIiIsbnVsbCwxNDEsbnVsbCxudWxsLG51bGwsMzcsbnVsbCxbbnVsbCxudWxsLG51bGwsbnVsbCxudWxsLG51bGwsbnVsbCxudWxsLG51bGwsbnVsbCxudWxsLG51bGwsbnVsbCxudWxsLG51bGwsbnVsbCxudWxsLG51bGwsbnVsbCxudWxsLG51bGwsbnVsbCxudWxsLG51bGwsbnVsbCxudWxsLG51bGwsbnVsbCxudWxsLCI3OTAxNDI4MjgyMDIzNjIxNzU5IiwiMTI1NDY3OTkwNTYwMjg0NzE3MDEiLCJodHRwczovL2N3MzMuY29tL3dwLWNvbnRlbnQvdXBsb2Fkcy9zaXRlcy84LzIwMjMvMDMvQm9uY2hvbl9CdWxnb2dpX0ZyaWVzLmpwZz9zdHJpcD0xIl0sbnVsbCxudWxsLDEsbnVsbCxudWxsLG51bGwsbnVsbCxbXSxbbnVsbCwzXSxbWzE2Nzk0MDc5MjFdLFsxNjc5NTM0MjUzLDgwNTUyNjAwMF1dXQ==\" jsmodel=\"BZ12ub\" jsname=\"ms4Zd\">\n",
      "     <div aria-disabled=\"false\" aria-label=\"Save for later\" class=\"U26fgb YOnsCc waNn5b ZqhUjb ztUP4e uUmIDd cd29Sd V3dfMc w0hkKb M9Bg4d\" data-n-et=\"1000\" data-tooltip=\"Save for later\" jsaction=\"click:cOuCgd; mousedown:UX7yZ; mouseup:lbsD7e; mouseenter:tfO1Yc; mouseleave:JywGue; focus:AHmuwe; blur:O22p3e; contextmenu:mg9Pef;touchstart:p6p2H; touchmove:FwuNnf; touchend:yfqBxc(preventMouseEvents=true|preventDefault=true); touchcancel:JMtRjd;;OuuAFc:UauMyf;gSufsc:BS8cLb;RyWlBb:tC9Erd;UTnG9:aDaYxb;nUyoxf:El6wk;\" jscontroller=\"zbPkme\" jsname=\"itaskb\" jsshadow=\"\" role=\"button\" tabindex=\"0\">\n",
      "      <div class=\"XI1L0d zSBur\" jsname=\"ksKsZd\">\n",
      "      </div>\n",
      "      <span aria-hidden=\"true\" class=\"DPvwYc ChwdAb Xd067b fAk9Qc\" jsname=\"BC5job\">\n",
      "       bookmark_border\n",
      "      </span>\n",
      "     </div>\n",
      "    </div>\n",
      "    <span class=\"L8PZAb uG2FLd\" data-n-ca-at=\"8\" data-n-et=\"1000\" jsaction=\"JIbuQc:RNDhHe;TDui6d:BgNF9e;\" jscontroller=\"ZHduwf\" jsdata=\"oM6qxc;CBMiaWh0dHBzOi8vY3czMy5jb20vbmV3cy9sb2NhbC9rb3JlYW4tZm9vZC1jaGFpbi1ib25jaG9uLXJlbGVhc2VzLXR3by1uZXctZmFuLWZhdm9yaXRlcy1maW5kLXRoZW0taW4tZGFsbGFzL9IBbWh0dHBzOi8vY3czMy5jb20vbmV3cy9sb2NhbC9rb3JlYW4tZm9vZC1jaGFpbi1ib25jaG9uLXJlbGVhc2VzLXR3by1uZXctZmFuLWZhdm9yaXRlcy1maW5kLXRoZW0taW4tZGFsbGFzL2FtcC8;$6\" jslog=\"93393; 3:W251bGwsbnVsbCxudWxsLG51bGwsIiIsbnVsbCwxNDEsbnVsbCxudWxsLG51bGwsMzcsbnVsbCxbbnVsbCxudWxsLG51bGwsbnVsbCxudWxsLG51bGwsbnVsbCxudWxsLG51bGwsbnVsbCxudWxsLG51bGwsbnVsbCxudWxsLG51bGwsbnVsbCxudWxsLG51bGwsbnVsbCxudWxsLG51bGwsbnVsbCxudWxsLG51bGwsbnVsbCxudWxsLG51bGwsbnVsbCxudWxsLCI3OTAxNDI4MjgyMDIzNjIxNzU5IiwiMTI1NDY3OTkwNTYwMjg0NzE3MDEiLCJodHRwczovL2N3MzMuY29tL3dwLWNvbnRlbnQvdXBsb2Fkcy9zaXRlcy84LzIwMjMvMDMvQm9uY2hvbl9CdWxnb2dpX0ZyaWVzLmpwZz9zdHJpcD0xIl0sbnVsbCxudWxsLDEsbnVsbCxudWxsLG51bGwsbnVsbCxbXSxbbnVsbCwzXSxbWzE2Nzk0MDc5MjFdLFsxNjc5NTM0MjUzLDgwNTUyNjAwMF1dXQ==\" jsmodel=\"tOLjce hECoeb\">\n",
      "     <div aria-disabled=\"false\" aria-label=\"Share\" class=\"U26fgb YOnsCc waNn5b ZqhUjb ztUP4e uUmIDd cd29Sd V3dfMc w0hkKb M9Bg4d\" data-n-et=\"1000\" data-tooltip=\"Share\" data-tooltip-horizontal-offset=\"0\" data-tooltip-vertical-offset=\"-12\" jsaction=\"click:cOuCgd; mousedown:UX7yZ; mouseup:lbsD7e; mouseenter:tfO1Yc; mouseleave:JywGue; focus:AHmuwe; blur:O22p3e; contextmenu:mg9Pef;touchstart:p6p2H; touchmove:FwuNnf; touchend:yfqBxc(preventMouseEvents=true|preventDefault=true); touchcancel:JMtRjd;;OuuAFc:UauMyf;gSufsc:BS8cLb;RyWlBb:tC9Erd;UTnG9:aDaYxb;nUyoxf:El6wk;\" jscontroller=\"zbPkme\" jsname=\"itaskb\" jsshadow=\"\" role=\"button\" tabindex=\"0\">\n",
      "      <div class=\"XI1L0d zSBur\" jsname=\"ksKsZd\">\n",
      "      </div>\n",
      "      <span aria-hidden=\"true\" class=\"DPvwYc ChwdAb Xd067b fAk9Qc\" jsname=\"BC5job\">\n",
      "       share\n",
      "      </span>\n",
      "     </div>\n",
      "    </span>\n",
      "    <span class=\"L8PZAb GB1Zid\" data-n-prms=\"[false,false,false,null,false,false,false,false,null,false,false]\" jsaction=\"rcuQ6b:npT2md;TDui6d:BgNF9e;aWRkAb:u0WEMd;h4C2te:Oy8cwd;\" jscontroller=\"jSvZHb\" jsdata=\"oM6qxc;CBMiaWh0dHBzOi8vY3czMy5jb20vbmV3cy9sb2NhbC9rb3JlYW4tZm9vZC1jaGFpbi1ib25jaG9uLXJlbGVhc2VzLXR3by1uZXctZmFuLWZhdm9yaXRlcy1maW5kLXRoZW0taW4tZGFsbGFzL9IBbWh0dHBzOi8vY3czMy5jb20vbmV3cy9sb2NhbC9rb3JlYW4tZm9vZC1jaGFpbi1ib25jaG9uLXJlbGVhc2VzLXR3by1uZXctZmFuLWZhdm9yaXRlcy1maW5kLXRoZW0taW4tZGFsbGFzL2FtcC8;$7\" jslog=\"109017\" jsmodel=\"WDTLsd BZ12ub\">\n",
      "     <div aria-disabled=\"false\" aria-expanded=\"false\" aria-haspopup=\"true\" aria-label=\"More\" class=\"U26fgb YOnsCc waNn5b ZqhUjb ztUP4e uUmIDd gL67me cd29Sd V3dfMc w0hkKb M9Bg4d\" data-dynamic=\"true\" data-tooltip=\"More\" data-tooltip-horizontal-offset=\"0\" data-tooltip-vertical-offset=\"-12\" jsaction=\"click:cOuCgd; mousedown:UX7yZ; mouseup:lbsD7e; mouseenter:tfO1Yc; mouseleave:JywGue; focus:AHmuwe; blur:O22p3e; contextmenu:mg9Pef;touchstart:p6p2H; touchmove:FwuNnf; touchend:yfqBxc(preventMouseEvents=true|preventDefault=true); touchcancel:JMtRjd;;keydown:I481le;OuuAFc:UauMyf;gSufsc:BS8cLb;RyWlBb:tC9Erd;UTnG9:aDaYxb;nUyoxf:El6wk;\" jscontroller=\"S9Bhuc\" jsname=\"itaskb\" jsshadow=\"\" role=\"button\" tabindex=\"0\">\n",
      "      <div class=\"XI1L0d zSBur\" jsname=\"ksKsZd\">\n",
      "      </div>\n",
      "      <span aria-hidden=\"true\" class=\"DPvwYc ChwdAb Xd067b fAk9Qc\" jsname=\"BC5job\">\n",
      "       more_vert\n",
      "      </span>\n",
      "     </div>\n",
      "    </span>\n",
      "   </menu>\n",
      "  </div>\n",
      " </article>\n",
      "</div>\n"
     ]
    }
   ],
   "source": [
    "print(soup.prettify())"
   ]
  },
  {
   "cell_type": "code",
   "execution_count": null,
   "metadata": {},
   "outputs": [],
   "source": [
    "\n",
    "paper_names = articles.find_elements(By.CSS_SELECTOR, 'div.wsLqz.RD0gLb > a')\n",
    "# anchor tag 가져오기\n",
    "anchors = articles.find_elements(By.TAG_NAME, 'a')\n",
    "\n",
    "# anchor에서 href 가져와서 list append\n",
    "url_list = []\n",
    "for anchor in anchors:\n",
    "    url_list.append(anchor.get_attribute('href'))\n",
    "\n",
    "# 신문사 이름 가져오기\n",
    "media_list = []\n",
    "for paper in paper_names:\n",
    "    if len(paper.text) < 3: pass\n",
    "    else: media_list.append(paper.text)\n",
    "\n",
    "# 유니크한 url만 가져오기\n",
    "url_list = list(set(url_list))\n",
    "url_list.remove(None)"
   ]
  },
  {
   "cell_type": "code",
   "execution_count": null,
   "metadata": {},
   "outputs": [],
   "source": []
  },
  {
   "cell_type": "code",
   "execution_count": null,
   "metadata": {},
   "outputs": [],
   "source": []
  },
  {
   "cell_type": "code",
   "execution_count": null,
   "metadata": {},
   "outputs": [],
   "source": [
    "url_list, media_list = get_keyword_news_url(keyword)"
   ]
  }
 ],
 "metadata": {
  "kernelspec": {
   "display_name": ".venvCrawler",
   "language": "python",
   "name": "python3"
  },
  "language_info": {
   "codemirror_mode": {
    "name": "ipython",
    "version": 3
   },
   "file_extension": ".py",
   "mimetype": "text/x-python",
   "name": "python",
   "nbconvert_exporter": "python",
   "pygments_lexer": "ipython3",
   "version": "3.9.6"
  },
  "orig_nbformat": 4
 },
 "nbformat": 4,
 "nbformat_minor": 2
}
