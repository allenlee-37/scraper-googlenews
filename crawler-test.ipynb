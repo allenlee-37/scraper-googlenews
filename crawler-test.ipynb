{
 "cells": [
  {
   "cell_type": "code",
   "execution_count": 1,
   "metadata": {},
   "outputs": [
    {
     "name": "stderr",
     "output_type": "stream",
     "text": [
      "/var/folders/v8/h6d7gvr914n2j3pr46ww1d_00000gn/T/ipykernel_20291/1747629989.py:24: DeprecationWarning: executable_path has been deprecated, please pass in a Service object\n",
      "  driver = webdriver.Chrome('/Users/master/dev/PythonPr/news-crawler/chromedriver', chrome_options=options)\n",
      "/var/folders/v8/h6d7gvr914n2j3pr46ww1d_00000gn/T/ipykernel_20291/1747629989.py:24: DeprecationWarning: use options instead of chrome_options\n",
      "  driver = webdriver.Chrome('/Users/master/dev/PythonPr/news-crawler/chromedriver', chrome_options=options)\n"
     ]
    }
   ],
   "source": [
    "from selenium import webdriver\n",
    "from selenium.webdriver.common.by import By\n",
    "import pandas as pd\n",
    "from tqdm import tqdm\n",
    "import time\n",
    "\n",
    "'''keyword 설정'''\n",
    "keyword = 'Korean food'\n",
    "\n",
    "# Headless로 실행\n",
    "options = webdriver.ChromeOptions()\n",
    "options.add_argument('headless')\n",
    "options.add_argument('window-size=1920x1080')\n",
    "options.add_argument('disable-gpu')\n",
    "\n",
    "def get_keyword_news_url(keyword):\n",
    "    '''\n",
    "    1. Google news에서 keyword 결과값을 검색\n",
    "    2. 검색한 기사 결과의 url을 리스트로 반환\n",
    "    '''   \n",
    "    # 목표 url: 구글 뉴스\n",
    "    url = 'https://news.google.com/home?hl=en-US&gl=US&ceid=US:en'\n",
    "    # 크롬 드라이버 실행\n",
    "    driver = webdriver.Chrome('/Users/master/dev/PythonPr/news-crawler/chromedriver')\n",
    "    driver.implicitly_wait(2)\n",
    "\n",
    "    # url 가져오기\n",
    "    driver.get(url)\n",
    "    # 검색창 찾기: search_box\n",
    "    search_box = driver.find_element(By.XPATH, '//*[@id=\"gb\"]/div[2]/div[2]/div[2]/form/div[1]/div/div/div/div/div[1]/input[2]')\n",
    "    # 검색어 입력: 1년간 결과 검색\n",
    "    search_box.send_keys(f'\"{keyword}\" when:1y')\n",
    "    # 검색창 클릭\n",
    "    driver.find_element(By.XPATH, '//*[@id=\"gb\"]/div[2]/div[2]/div[2]/form/button[4]').click()\n",
    "    driver.implicitly_wait(3)\n",
    "\n",
    "    # 각 기사 element 가져오기\n",
    "    articles = driver.find_element(By.CSS_SELECTOR, '#yDmH0d > c-wiz > div > div.FVeGwb.CVnAc.Haq2Hf.bWfURe > div.ajwQHc.BL5WZb.RELBvb > div > main > c-wiz > div.lBwEZb.BL5WZb.GndZbb')\n",
    "    paper_names = articles.find_elements(By.CSS_SELECTOR, 'div.wsLqz.RD0gLb > a')\n",
    "    # anchor tag 가져오기\n",
    "    anchors = articles.find_elements(By.TAG_NAME, 'a')\n",
    "\n",
    "    # anchor에서 href 가져와서 list append\n",
    "    url_list = []\n",
    "    for anchor in anchors:\n",
    "        url_list.append(anchor.get_attribute('href'))\n",
    "    \n",
    "    # 신문사 이름 가져오기\n",
    "    media_list = []\n",
    "    for paper in paper_names:\n",
    "        if len(paper.text) < 3: pass\n",
    "        else: media_list.append(paper.text)\n",
    "\n",
    "    # 유니크한 url만 가져오기\n",
    "    url_list = list(set(url_list))\n",
    "    url_list.remove(None)\n",
    "    return url_list, media_list\n",
    "url_list, media_list = get_keyword_news_url(keyword)\n",
    "\n",
    "def get_title_body(number):\n",
    "    '''\n",
    "    1. get_keyword_news_url에서 얻은 리스트에서 number번째 기사를 열음\n",
    "    2. 열은 기사에서 title과 body를 긁어옴\n",
    "    3. title과 body를 반환\n",
    "    '''\n",
    "    url = url_list[number]\n",
    "    media = media_list[number]\n",
    "    # driver 실행\n",
    "    driver = webdriver.Chrome('/Users/master/dev/PythonPr/news-crawler/chromedriver', chrome_options=options)\n",
    "    driver.implicitly_wait(5)\n",
    "\n",
    "    driver.get(url)\n",
    "    driver.implicitly_wait(5)\n",
    "\n",
    "    # 제목\n",
    "    title = driver.find_element(By.CSS_SELECTOR, 'h1')\n",
    "    paragraphs = driver.find_elements(By.TAG_NAME, 'p')\n",
    "    return title, paragraphs, url, media\n",
    "\n",
    "def process_title_body(search_range = len(url_list)):\n",
    "    result = []\n",
    "    for i in tqdm(range(search_range)):\n",
    "        try:\n",
    "            title_elem, paragraphs, url, media = get_title_body(i)\n",
    "            body=[]\n",
    "            for elem in paragraphs:\n",
    "                if len(elem.text) < 50: pass\n",
    "                else: body.append(elem.text) \n",
    "            body = ' '.join(body)\n",
    "            title = title_elem.text\n",
    "            result.append([title, body, media, url])\n",
    "            if i%10==0:result.to_excel(f'{i}-news-crawl-result.xlsx')\n",
    "        except: \n",
    "            error_url = url_list[i]\n",
    "            result.append(['error', 'error', 'error', error_url])\n",
    "    return pd.DataFrame(result, columns=['title', 'body', 'media', 'url'])"
   ]
  },
  {
   "cell_type": "code",
   "execution_count": 2,
   "metadata": {},
   "outputs": [
    {
     "name": "stderr",
     "output_type": "stream",
     "text": [
      "  0%|          | 0/95 [00:00<?, ?it/s]/var/folders/v8/h6d7gvr914n2j3pr46ww1d_00000gn/T/ipykernel_20291/1747629989.py:63: DeprecationWarning: executable_path has been deprecated, please pass in a Service object\n",
      "  driver = webdriver.Chrome('/Users/master/dev/PythonPr/news-crawler/chromedriver', chrome_options=options)\n",
      "/var/folders/v8/h6d7gvr914n2j3pr46ww1d_00000gn/T/ipykernel_20291/1747629989.py:63: DeprecationWarning: use options instead of chrome_options\n",
      "  driver = webdriver.Chrome('/Users/master/dev/PythonPr/news-crawler/chromedriver', chrome_options=options)\n",
      "100%|██████████| 95/95 [21:10<00:00, 13.37s/it]\n"
     ]
    }
   ],
   "source": [
    "result = process_title_body()"
   ]
  },
  {
   "cell_type": "code",
   "execution_count": 3,
   "metadata": {},
   "outputs": [],
   "source": [
    "result.to_excel('news-crawl-result-test3.xlsx')"
   ]
  },
  {
   "cell_type": "code",
   "execution_count": null,
   "metadata": {},
   "outputs": [],
   "source": []
  },
  {
   "cell_type": "code",
   "execution_count": null,
   "metadata": {},
   "outputs": [],
   "source": []
  },
  {
   "cell_type": "code",
   "execution_count": null,
   "metadata": {},
   "outputs": [],
   "source": []
  },
  {
   "cell_type": "code",
   "execution_count": 1,
   "metadata": {},
   "outputs": [
    {
     "name": "stderr",
     "output_type": "stream",
     "text": [
      "/var/folders/v8/h6d7gvr914n2j3pr46ww1d_00000gn/T/ipykernel_3271/1988876342.py:23: DeprecationWarning: executable_path has been deprecated, please pass in a Service object\n",
      "  driver = webdriver.Chrome('/Users/master/dev/PythonPr/news-crawler/chromedriver')\n"
     ]
    }
   ],
   "source": [
    "from selenium import webdriver\n",
    "from selenium.webdriver.common.by import By\n",
    "import pandas as pd\n",
    "from tqdm import tqdm\n",
    "\n",
    "'''keyword 설정'''\n",
    "keyword = 'Korean food'\n",
    "\n",
    "# Headless로 실행\n",
    "options = webdriver.ChromeOptions()\n",
    "options.add_argument('headless')\n",
    "options.add_argument('window-size=1920x1080')\n",
    "options.add_argument('disable-gpu')\n",
    "\n",
    "def get_keyword_news_url(keyword):\n",
    "    '''\n",
    "    1. Google news에서 keyword 결과값을 검색\n",
    "    2. 검색한 기사 결과의 url을 리스트로 반환\n",
    "    '''   \n",
    "    # 목표 url: 구글 뉴스\n",
    "    url = 'https://news.google.com/home?hl=en-US&gl=US&ceid=US:en'\n",
    "    # 크롬 드라이버 실행\n",
    "    driver = webdriver.Chrome('/Users/master/dev/PythonPr/news-crawler/chromedriver')\n",
    "    driver.implicitly_wait(2)\n",
    "\n",
    "    # url 가져오기\n",
    "    driver.get(url)\n",
    "    # 검색창 찾기: search_box\n",
    "    search_box = driver.find_element(By.XPATH, '//*[@id=\"gb\"]/div[2]/div[2]/div[2]/form/div[1]/div/div/div/div/div[1]/input[2]')\n",
    "    # 검색어 입력: 1년간 결과 검색\n",
    "    search_box.send_keys(f'\"{keyword}\" when:1y')\n",
    "    # 검색창 클릭\n",
    "    driver.find_element(By.XPATH, '//*[@id=\"gb\"]/div[2]/div[2]/div[2]/form/button[4]').click()\n",
    "    driver.implicitly_wait(3)\n",
    "\n",
    "    # 각 기사 element 가져오기\n",
    "    articles = driver.find_element(By.CSS_SELECTOR, '#yDmH0d > c-wiz > div > div.FVeGwb.CVnAc.Haq2Hf.bWfURe > div.ajwQHc.BL5WZb.RELBvb > div > main > c-wiz > div.lBwEZb.BL5WZb.GndZbb')\n",
    "    paper_names = articles.find_elements(By.CSS_SELECTOR, 'div.wsLqz.RD0gLb > a')\n",
    "    # anchor tag 가져오기\n",
    "    anchors = articles.find_elements(By.TAG_NAME, 'a')\n",
    "\n",
    "    # anchor에서 href 가져와서 list append\n",
    "    url_list = []\n",
    "    for anchor in anchors:\n",
    "        url_list.append(anchor.get_attribute('href'))\n",
    "    \n",
    "    # 신문사 이름 가져오기\n",
    "    media_list = []\n",
    "    for paper in paper_names:\n",
    "        if len(paper.text) < 3: pass\n",
    "        else: media_list.append(paper.text)\n",
    "\n",
    "    # 유니크한 url만 가져오기\n",
    "    url_list = list(url_list)\n",
    "    url_list.remove(None)\n",
    "    return url_list, media_list\n",
    "\n",
    "url_list, media_list = get_keyword_news_url(keyword)\n"
   ]
  },
  {
   "cell_type": "code",
   "execution_count": 14,
   "metadata": {},
   "outputs": [
    {
     "name": "stdout",
     "output_type": "stream",
     "text": [
      "95\n",
      "36\n"
     ]
    }
   ],
   "source": [
    "print(len(url_list))\n",
    "print(len(media_list))"
   ]
  },
  {
   "cell_type": "code",
   "execution_count": 13,
   "metadata": {},
   "outputs": [
    {
     "ename": "ValueError",
     "evalue": "All arrays must be of the same length",
     "output_type": "error",
     "traceback": [
      "\u001b[0;31m---------------------------------------------------------------------------\u001b[0m",
      "\u001b[0;31mValueError\u001b[0m                                Traceback (most recent call last)",
      "Cell \u001b[0;32mIn[13], line 1\u001b[0m\n\u001b[0;32m----> 1\u001b[0m pd\u001b[39m.\u001b[39;49mDataFrame({\u001b[39m'\u001b[39;49m\u001b[39murl\u001b[39;49m\u001b[39m'\u001b[39;49m: url_list,\n\u001b[1;32m      2\u001b[0m               \u001b[39m'\u001b[39;49m\u001b[39mmeida\u001b[39;49m\u001b[39m'\u001b[39;49m: media_list})\n",
      "File \u001b[0;32m~/dev/PythonPr/news-crawler/.venvCrawler/lib/python3.9/site-packages/pandas/core/frame.py:664\u001b[0m, in \u001b[0;36mDataFrame.__init__\u001b[0;34m(self, data, index, columns, dtype, copy)\u001b[0m\n\u001b[1;32m    658\u001b[0m     mgr \u001b[39m=\u001b[39m \u001b[39mself\u001b[39m\u001b[39m.\u001b[39m_init_mgr(\n\u001b[1;32m    659\u001b[0m         data, axes\u001b[39m=\u001b[39m{\u001b[39m\"\u001b[39m\u001b[39mindex\u001b[39m\u001b[39m\"\u001b[39m: index, \u001b[39m\"\u001b[39m\u001b[39mcolumns\u001b[39m\u001b[39m\"\u001b[39m: columns}, dtype\u001b[39m=\u001b[39mdtype, copy\u001b[39m=\u001b[39mcopy\n\u001b[1;32m    660\u001b[0m     )\n\u001b[1;32m    662\u001b[0m \u001b[39melif\u001b[39;00m \u001b[39misinstance\u001b[39m(data, \u001b[39mdict\u001b[39m):\n\u001b[1;32m    663\u001b[0m     \u001b[39m# GH#38939 de facto copy defaults to False only in non-dict cases\u001b[39;00m\n\u001b[0;32m--> 664\u001b[0m     mgr \u001b[39m=\u001b[39m dict_to_mgr(data, index, columns, dtype\u001b[39m=\u001b[39;49mdtype, copy\u001b[39m=\u001b[39;49mcopy, typ\u001b[39m=\u001b[39;49mmanager)\n\u001b[1;32m    665\u001b[0m \u001b[39melif\u001b[39;00m \u001b[39misinstance\u001b[39m(data, ma\u001b[39m.\u001b[39mMaskedArray):\n\u001b[1;32m    666\u001b[0m     \u001b[39mimport\u001b[39;00m \u001b[39mnumpy\u001b[39;00m\u001b[39m.\u001b[39;00m\u001b[39mma\u001b[39;00m\u001b[39m.\u001b[39;00m\u001b[39mmrecords\u001b[39;00m \u001b[39mas\u001b[39;00m \u001b[39mmrecords\u001b[39;00m\n",
      "File \u001b[0;32m~/dev/PythonPr/news-crawler/.venvCrawler/lib/python3.9/site-packages/pandas/core/internals/construction.py:493\u001b[0m, in \u001b[0;36mdict_to_mgr\u001b[0;34m(data, index, columns, dtype, typ, copy)\u001b[0m\n\u001b[1;32m    489\u001b[0m     \u001b[39melse\u001b[39;00m:\n\u001b[1;32m    490\u001b[0m         \u001b[39m# dtype check to exclude e.g. range objects, scalars\u001b[39;00m\n\u001b[1;32m    491\u001b[0m         arrays \u001b[39m=\u001b[39m [x\u001b[39m.\u001b[39mcopy() \u001b[39mif\u001b[39;00m \u001b[39mhasattr\u001b[39m(x, \u001b[39m\"\u001b[39m\u001b[39mdtype\u001b[39m\u001b[39m\"\u001b[39m) \u001b[39melse\u001b[39;00m x \u001b[39mfor\u001b[39;00m x \u001b[39min\u001b[39;00m arrays]\n\u001b[0;32m--> 493\u001b[0m \u001b[39mreturn\u001b[39;00m arrays_to_mgr(arrays, columns, index, dtype\u001b[39m=\u001b[39;49mdtype, typ\u001b[39m=\u001b[39;49mtyp, consolidate\u001b[39m=\u001b[39;49mcopy)\n",
      "File \u001b[0;32m~/dev/PythonPr/news-crawler/.venvCrawler/lib/python3.9/site-packages/pandas/core/internals/construction.py:118\u001b[0m, in \u001b[0;36marrays_to_mgr\u001b[0;34m(arrays, columns, index, dtype, verify_integrity, typ, consolidate)\u001b[0m\n\u001b[1;32m    115\u001b[0m \u001b[39mif\u001b[39;00m verify_integrity:\n\u001b[1;32m    116\u001b[0m     \u001b[39m# figure out the index, if necessary\u001b[39;00m\n\u001b[1;32m    117\u001b[0m     \u001b[39mif\u001b[39;00m index \u001b[39mis\u001b[39;00m \u001b[39mNone\u001b[39;00m:\n\u001b[0;32m--> 118\u001b[0m         index \u001b[39m=\u001b[39m _extract_index(arrays)\n\u001b[1;32m    119\u001b[0m     \u001b[39melse\u001b[39;00m:\n\u001b[1;32m    120\u001b[0m         index \u001b[39m=\u001b[39m ensure_index(index)\n",
      "File \u001b[0;32m~/dev/PythonPr/news-crawler/.venvCrawler/lib/python3.9/site-packages/pandas/core/internals/construction.py:666\u001b[0m, in \u001b[0;36m_extract_index\u001b[0;34m(data)\u001b[0m\n\u001b[1;32m    664\u001b[0m lengths \u001b[39m=\u001b[39m \u001b[39mlist\u001b[39m(\u001b[39mset\u001b[39m(raw_lengths))\n\u001b[1;32m    665\u001b[0m \u001b[39mif\u001b[39;00m \u001b[39mlen\u001b[39m(lengths) \u001b[39m>\u001b[39m \u001b[39m1\u001b[39m:\n\u001b[0;32m--> 666\u001b[0m     \u001b[39mraise\u001b[39;00m \u001b[39mValueError\u001b[39;00m(\u001b[39m\"\u001b[39m\u001b[39mAll arrays must be of the same length\u001b[39m\u001b[39m\"\u001b[39m)\n\u001b[1;32m    668\u001b[0m \u001b[39mif\u001b[39;00m have_dicts:\n\u001b[1;32m    669\u001b[0m     \u001b[39mraise\u001b[39;00m \u001b[39mValueError\u001b[39;00m(\n\u001b[1;32m    670\u001b[0m         \u001b[39m\"\u001b[39m\u001b[39mMixing dicts with non-Series may lead to ambiguous ordering.\u001b[39m\u001b[39m\"\u001b[39m\n\u001b[1;32m    671\u001b[0m     )\n",
      "\u001b[0;31mValueError\u001b[0m: All arrays must be of the same length"
     ]
    }
   ],
   "source": [
    "pd.DataFrame({'url': url_list,\n",
    "              'meida': media_list})"
   ]
  },
  {
   "cell_type": "code",
   "execution_count": null,
   "metadata": {},
   "outputs": [],
   "source": []
  }
 ],
 "metadata": {
  "kernelspec": {
   "display_name": ".venv",
   "language": "python",
   "name": "python3"
  },
  "language_info": {
   "codemirror_mode": {
    "name": "ipython",
    "version": 3
   },
   "file_extension": ".py",
   "mimetype": "text/x-python",
   "name": "python",
   "nbconvert_exporter": "python",
   "pygments_lexer": "ipython3",
   "version": "3.9.6"
  },
  "orig_nbformat": 4
 },
 "nbformat": 4,
 "nbformat_minor": 2
}
