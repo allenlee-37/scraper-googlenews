{
 "cells": [
  {
   "cell_type": "code",
   "execution_count": 3,
   "metadata": {},
   "outputs": [
    {
     "name": "stderr",
     "output_type": "stream",
     "text": [
      "/var/folders/v8/h6d7gvr914n2j3pr46ww1d_00000gn/T/ipykernel_14650/1236698200.py:18: DeprecationWarning: executable_path has been deprecated, please pass in a Service object\n",
      "  driver = webdriver.Chrome('/Users/master/dev/PythonPr/news-crawler/chromedriver')\n"
     ]
    }
   ],
   "source": [
    "from selenium import webdriver\n",
    "from selenium.webdriver.common.by import By\n",
    "import pandas as pd\n",
    "from tqdm import tqdm\n",
    "import time\n",
    "\n",
    "'''keyword 설정'''\n",
    "keyword = 'Korean food'\n",
    "\n",
    "# Headless로 실행\n",
    "options = webdriver.ChromeOptions()\n",
    "'''\n",
    "options.add_argument('headless')\n",
    "options.add_argument('window-size=1920x1080')\n",
    "options.add_argument('disable-gpu)\n",
    "'''\n",
    "def get_keyword_news_url(keyword):\n",
    "    '''\n",
    "    1. Google news에서 keyword 결과값을 검색\n",
    "    2. 검색한 기사 결과의 url을 리스트로 반환\n",
    "    '''   \n",
    "    # 목표 url: 구글 뉴스\n",
    "    url = 'https://news.google.com/home?hl=en-US&gl=US&ceid=US:en'\n",
    "    # 크롬 드라이버 실행\n",
    "    driver = webdriver.Chrome('/Users/master/dev/PythonPr/news-crawler/chromedriver', chrome_options=options)\n",
    "    driver.implicitly_wait(2)\n",
    "\n",
    "    # url 가져오기\n",
    "    driver.get(url)\n",
    "\n",
    "    # 검색창 찾기: search_box\n",
    "    search_box = driver.find_element(By.XPATH, '//*[@id=\"gb\"]/div[2]/div[2]/div[2]/form/div[1]/div/div/div/div/div[1]/input[2]')\n",
    "    # 검색어 입력: 1년간 결과 검색\n",
    "    search_box.send_keys(f'\"{keyword}\" when:1y')\n",
    "    # 검색창 클릭\n",
    "    driver.find_element(By.XPATH, '//*[@id=\"gb\"]/div[2]/div[2]/div[2]/form/button[4]').click()\n",
    "\n",
    "    driver.implicitly_wait(3)\n",
    "\n",
    "    # 각 기사 element 가져오기\n",
    "    articles = driver.find_element(By.CSS_SELECTOR, '#yDmH0d > c-wiz > div > div.FVeGwb.CVnAc.Haq2Hf.bWfURe > div.ajwQHc.BL5WZb.RELBvb > div > main > c-wiz > div.lBwEZb.BL5WZb.GndZbb')\n",
    "    # anchor tag 가져오기\n",
    "    anchors = articles.find_elements(By.TAG_NAME, 'a')\n",
    "\n",
    "    # anchor에서 href 가져와서 list append\n",
    "    url_list = []\n",
    "    for anchor in anchors:\n",
    "        url_list.append(anchor.get_attribute('href'))\n",
    "\n",
    "    # 유니크한 url만 가져오기\n",
    "    url_list = list(set(url_list))\n",
    "    url_list.remove(None)\n",
    "    return url_list\n",
    "url_list = get_keyword_news_url(keyword)\n",
    "\n",
    "def get_title_body(number):\n",
    "    '''\n",
    "    1. get_keyword_news_url에서 얻은 리스트에서 number번째 기사를 열음\n",
    "    2. 열은 기사에서 title과 body를 긁어옴\n",
    "    3. title과 body를 반환\n",
    "    '''\n",
    "    url = url_list[number]\n",
    "    # driver 실행\n",
    "    driver = webdriver.Chrome('/Users/master/dev/PythonPr/news-crawler/chromedriver')\n",
    "    driver.implicitly_wait(5)\n",
    "\n",
    "    driver.get(url)\n",
    "    driver.implicitly_wait(5)\n",
    "\n",
    "    # 제목\n",
    "    title = driver.find_element(By.CSS_SELECTOR, 'h1')\n",
    "    paragraphs = driver.find_elements(By.TAG_NAME, 'p')\n",
    "    return title, paragraphs, url\n",
    "\n",
    "def process_title_body(search_range = len(url_list)):\n",
    "    result = []\n",
    "    for i in tqdm(range(search_range)):\n",
    "        try:\n",
    "            title_elem, paragraphs, url = get_title_body(i)\n",
    "            body=[]\n",
    "            for elem in paragraphs:\n",
    "                if len(elem.text) < 50: pass\n",
    "                else: body.append(elem.text) \n",
    "            body = ' '.join(body)\n",
    "            title = title_elem.text\n",
    "            result.append([title, body, url])\n",
    "            if i%10==0:result.to_excel(f'{i}-news-crawl-result.xlsx')\n",
    "        except: result.append(['error', 'error', url])\n",
    "    return pd.DataFrame(result, columns=['title', 'body', 'url'])"
   ]
  },
  {
   "cell_type": "code",
   "execution_count": 4,
   "metadata": {},
   "outputs": [
    {
     "name": "stderr",
     "output_type": "stream",
     "text": [
      "  0%|          | 0/95 [00:00<?, ?it/s]/var/folders/v8/h6d7gvr914n2j3pr46ww1d_00000gn/T/ipykernel_14650/1236698200.py:57: DeprecationWarning: executable_path has been deprecated, please pass in a Service object\n",
      "  driver = webdriver.Chrome('/Users/master/dev/PythonPr/news-crawler/chromedriver')\n",
      "100%|██████████| 95/95 [18:01<00:00, 11.39s/it]\n"
     ]
    }
   ],
   "source": [
    "result = process_title_body()"
   ]
  },
  {
   "cell_type": "code",
   "execution_count": 5,
   "metadata": {},
   "outputs": [],
   "source": [
    "result.to_excel('news-crawl-result.xlsx')"
   ]
  },
  {
   "cell_type": "code",
   "execution_count": null,
   "metadata": {},
   "outputs": [],
   "source": []
  },
  {
   "cell_type": "code",
   "execution_count": null,
   "metadata": {},
   "outputs": [],
   "source": []
  }
 ],
 "metadata": {
  "kernelspec": {
   "display_name": ".venv",
   "language": "python",
   "name": "python3"
  },
  "language_info": {
   "codemirror_mode": {
    "name": "ipython",
    "version": 3
   },
   "file_extension": ".py",
   "mimetype": "text/x-python",
   "name": "python",
   "nbconvert_exporter": "python",
   "pygments_lexer": "ipython3",
   "version": "3.9.6"
  },
  "orig_nbformat": 4
 },
 "nbformat": 4,
 "nbformat_minor": 2
}
