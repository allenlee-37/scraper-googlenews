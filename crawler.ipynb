{
 "cells": [
  {
   "cell_type": "code",
   "execution_count": 171,
   "metadata": {},
   "outputs": [
    {
     "name": "stderr",
     "output_type": "stream",
     "text": [
      "/var/folders/v8/h6d7gvr914n2j3pr46ww1d_00000gn/T/ipykernel_7233/1646596781.py:15: DeprecationWarning: executable_path has been deprecated, please pass in a Service object\n",
      "  driver = webdriver.Chrome('/Users/master/dev/PythonPr/news-crawler/chromedriver')\n"
     ]
    }
   ],
   "source": [
    "from selenium import webdriver\n",
    "from selenium.webdriver.common.by import By\n",
    "import pandas as pd\n",
    "from tqdm import tqdm\n",
    "import time\n",
    "\n",
    "def get_keyword_news_url(keyword='Korean food'):\n",
    "    '''\n",
    "    1. Google news에서 keyword 결과값을 검색\n",
    "    2. 검색한 기사 결과의 url을 리스트로 반환\n",
    "    '''   \n",
    "    # 목표 url: 구글 뉴스\n",
    "    url = 'https://news.google.com/home?hl=en-US&gl=US&ceid=US:en'\n",
    "    # 크롬 드라이버 실행\n",
    "    driver = webdriver.Chrome('/Users/master/dev/PythonPr/news-crawler/chromedriver')\n",
    "    driver.implicitly_wait(2)\n",
    "\n",
    "    # url 가져오기\n",
    "    driver.get(url)\n",
    "\n",
    "    # 검색창 찾기: search_box\n",
    "    search_box = driver.find_element(By.XPATH, '//*[@id=\"gb\"]/div[2]/div[2]/div[2]/form/div[1]/div/div/div/div/div[1]/input[2]')\n",
    "    # 검색어 입력: 1년간 결과 검색\n",
    "    search_box.send_keys(f'\"{keyword}\" when:1y')\n",
    "    # 검색창 클릭\n",
    "    driver.find_element(By.XPATH, '//*[@id=\"gb\"]/div[2]/div[2]/div[2]/form/button[4]').click()\n",
    "\n",
    "    driver.implicitly_wait(3)\n",
    "\n",
    "    # 각 기사 element 가져오기\n",
    "    articles = driver.find_element(By.CSS_SELECTOR, '#yDmH0d > c-wiz > div > div.FVeGwb.CVnAc.Haq2Hf.bWfURe > div.ajwQHc.BL5WZb.RELBvb > div > main > c-wiz > div.lBwEZb.BL5WZb.GndZbb')\n",
    "    # anchor tag 가져오기\n",
    "    anchors = articles.find_elements(By.TAG_NAME, 'a')\n",
    "\n",
    "    # anchor에서 href 가져와서 list append\n",
    "    url_list = []\n",
    "    for anchor in anchors:\n",
    "        url_list.append(anchor.get_attribute('href'))\n",
    "\n",
    "    # 유니크한 url만 가져오기\n",
    "    url_list = list(set(url_list))\n",
    "    url_list.remove(None)\n",
    "    return url_list\n",
    "url_list = get_keyword_news_url()\n",
    "\n",
    "def get_title_body(number):\n",
    "    '''\n",
    "    1. get_keyword_news_url에서 얻은 리스트에서 number번째 기사를 열음\n",
    "    2. 열은 기사에서 title과 body를 긁어옴\n",
    "    3. title과 body를 반환\n",
    "    '''\n",
    "    url = url_list[number]\n",
    "    # driver 실행\n",
    "    driver = webdriver.Chrome('/Users/master/dev/PythonPr/news-crawler/chromedriver')\n",
    "    driver.implicitly_wait(5)\n",
    "\n",
    "    driver.get(url)\n",
    "    driver.implicitly_wait(5)\n",
    "\n",
    "    # 제목\n",
    "    title = driver.find_element(By.CSS_SELECTOR, 'h1')\n",
    "    paragraphs = driver.find_elements(By.TAG_NAME, 'p')\n",
    "    return title, paragraphs, url"
   ]
  },
  {
   "cell_type": "code",
   "execution_count": 174,
   "metadata": {},
   "outputs": [
    {
     "name": "stderr",
     "output_type": "stream",
     "text": [
      "/var/folders/v8/h6d7gvr914n2j3pr46ww1d_00000gn/T/ipykernel_7233/1646596781.py:54: DeprecationWarning: executable_path has been deprecated, please pass in a Service object\n",
      "  driver = webdriver.Chrome('/Users/master/dev/PythonPr/news-crawler/chromedriver')\n",
      "/var/folders/v8/h6d7gvr914n2j3pr46ww1d_00000gn/T/ipykernel_7233/1567217831.py:8: FutureWarning: The frame.append method is deprecated and will be removed from pandas in a future version. Use pandas.concat instead.\n",
      "  result.append(pd.Series([title, body, url]), ignore_index=True)\n",
      "/var/folders/v8/h6d7gvr914n2j3pr46ww1d_00000gn/T/ipykernel_7233/1646596781.py:54: DeprecationWarning: executable_path has been deprecated, please pass in a Service object\n",
      "  driver = webdriver.Chrome('/Users/master/dev/PythonPr/news-crawler/chromedriver')\n",
      "/var/folders/v8/h6d7gvr914n2j3pr46ww1d_00000gn/T/ipykernel_7233/1567217831.py:8: FutureWarning: The frame.append method is deprecated and will be removed from pandas in a future version. Use pandas.concat instead.\n",
      "  result.append(pd.Series([title, body, url]), ignore_index=True)\n"
     ]
    }
   ],
   "source": [
    "result = pd.DataFrame()\n",
    "for i in range(2):\n",
    "    try:\n",
    "        titles, paragraphs, url = get_title_body(i)\n",
    "        title = titles.text\n",
    "        body = [paragraph.text for paragraph in paragraphs]\n",
    "        body = '-'.join(body)\n",
    "        result.append(pd.Series([title, body, url]), ignore_index=True) \n",
    "        time.sleep(3)\n",
    "    except:\n",
    "        result.append(pd.Series([url_list[i]], None, None))\n",
    "\n"
   ]
  },
  {
   "cell_type": "code",
   "execution_count": 180,
   "metadata": {},
   "outputs": [
    {
     "name": "stderr",
     "output_type": "stream",
     "text": [
      "/var/folders/v8/h6d7gvr914n2j3pr46ww1d_00000gn/T/ipykernel_7233/1646596781.py:54: DeprecationWarning: executable_path has been deprecated, please pass in a Service object\n",
      "  driver = webdriver.Chrome('/Users/master/dev/PythonPr/news-crawler/chromedriver')\n",
      "/var/folders/v8/h6d7gvr914n2j3pr46ww1d_00000gn/T/ipykernel_7233/1954458992.py:6: FutureWarning: The frame.append method is deprecated and will be removed from pandas in a future version. Use pandas.concat instead.\n",
      "  result.append(pd.Series([title, body, url]), ignore_index=True)\n"
     ]
    },
    {
     "data": {
      "text/html": [
       "<div>\n",
       "<style scoped>\n",
       "    .dataframe tbody tr th:only-of-type {\n",
       "        vertical-align: middle;\n",
       "    }\n",
       "\n",
       "    .dataframe tbody tr th {\n",
       "        vertical-align: top;\n",
       "    }\n",
       "\n",
       "    .dataframe thead th {\n",
       "        text-align: right;\n",
       "    }\n",
       "</style>\n",
       "<table border=\"1\" class=\"dataframe\">\n",
       "  <thead>\n",
       "    <tr style=\"text-align: right;\">\n",
       "      <th></th>\n",
       "    </tr>\n",
       "  </thead>\n",
       "  <tbody>\n",
       "  </tbody>\n",
       "</table>\n",
       "</div>"
      ],
      "text/plain": [
       "Empty DataFrame\n",
       "Columns: []\n",
       "Index: []"
      ]
     },
     "execution_count": 180,
     "metadata": {},
     "output_type": "execute_result"
    }
   ],
   "source": [
    "result = pd.DataFrame()\n",
    "\n",
    "titles, paragraphs, url = get_title_body(0)\n",
    "title = titles.text\n",
    "body = [paragraph.text for paragraph in paragraphs]\n",
    "result.append(pd.Series([title, body, url]), ignore_index=True)     \n",
    "\n",
    "result"
   ]
  },
  {
   "cell_type": "code",
   "execution_count": 187,
   "metadata": {},
   "outputs": [
    {
     "ename": "NoSuchWindowException",
     "evalue": "Message: no such window: target window already closed\nfrom unknown error: web view not found\n  (Session info: chrome=111.0.5563.64)\nStacktrace:\n0   chromedriver                        0x00000001044bed3c chromedriver + 4222268\n1   chromedriver                        0x00000001044458e8 chromedriver + 3725544\n2   chromedriver                        0x00000001040fbda4 chromedriver + 277924\n3   chromedriver                        0x00000001040d6be0 chromedriver + 125920\n4   chromedriver                        0x000000010415bf2c chromedriver + 671532\n5   chromedriver                        0x000000010416ee20 chromedriver + 749088\n6   chromedriver                        0x00000001041298f0 chromedriver + 465136\n7   chromedriver                        0x000000010412a974 chromedriver + 469364\n8   chromedriver                        0x000000010448f788 chromedriver + 4028296\n9   chromedriver                        0x0000000104493c1c chromedriver + 4045852\n10  chromedriver                        0x0000000104499c98 chromedriver + 4070552\n11  chromedriver                        0x00000001044948d8 chromedriver + 4049112\n12  chromedriver                        0x000000010446bd84 chromedriver + 3882372\n13  chromedriver                        0x00000001044b2720 chromedriver + 4171552\n14  chromedriver                        0x00000001044b2878 chromedriver + 4171896\n15  chromedriver                        0x00000001044c6014 chromedriver + 4251668\n16  libsystem_pthread.dylib             0x000000018868606c _pthread_start + 148\n17  libsystem_pthread.dylib             0x0000000188680e2c thread_start + 8\n",
     "output_type": "error",
     "traceback": [
      "\u001b[0;31m---------------------------------------------------------------------------\u001b[0m",
      "\u001b[0;31mNoSuchWindowException\u001b[0m                     Traceback (most recent call last)",
      "Cell \u001b[0;32mIn[187], line 1\u001b[0m\n\u001b[0;32m----> 1\u001b[0m [paragraph\u001b[39m.\u001b[39mtext \u001b[39mfor\u001b[39;00m paragraph \u001b[39min\u001b[39;00m paragraphs]\n",
      "Cell \u001b[0;32mIn[187], line 1\u001b[0m, in \u001b[0;36m<listcomp>\u001b[0;34m(.0)\u001b[0m\n\u001b[0;32m----> 1\u001b[0m [paragraph\u001b[39m.\u001b[39;49mtext \u001b[39mfor\u001b[39;00m paragraph \u001b[39min\u001b[39;00m paragraphs]\n",
      "File \u001b[0;32m~/dev/PythonPr/news-crawler/.venvCrawler/lib/python3.9/site-packages/selenium/webdriver/remote/webelement.py:89\u001b[0m, in \u001b[0;36mWebElement.text\u001b[0;34m(self)\u001b[0m\n\u001b[1;32m     86\u001b[0m \u001b[39m@property\u001b[39m\n\u001b[1;32m     87\u001b[0m \u001b[39mdef\u001b[39;00m \u001b[39mtext\u001b[39m(\u001b[39mself\u001b[39m) \u001b[39m-\u001b[39m\u001b[39m>\u001b[39m \u001b[39mstr\u001b[39m:\n\u001b[1;32m     88\u001b[0m \u001b[39m    \u001b[39m\u001b[39m\"\"\"The text of the element.\"\"\"\u001b[39;00m\n\u001b[0;32m---> 89\u001b[0m     \u001b[39mreturn\u001b[39;00m \u001b[39mself\u001b[39;49m\u001b[39m.\u001b[39;49m_execute(Command\u001b[39m.\u001b[39;49mGET_ELEMENT_TEXT)[\u001b[39m\"\u001b[39m\u001b[39mvalue\u001b[39m\u001b[39m\"\u001b[39m]\n",
      "File \u001b[0;32m~/dev/PythonPr/news-crawler/.venvCrawler/lib/python3.9/site-packages/selenium/webdriver/remote/webelement.py:403\u001b[0m, in \u001b[0;36mWebElement._execute\u001b[0;34m(self, command, params)\u001b[0m\n\u001b[1;32m    401\u001b[0m     params \u001b[39m=\u001b[39m {}\n\u001b[1;32m    402\u001b[0m params[\u001b[39m\"\u001b[39m\u001b[39mid\u001b[39m\u001b[39m\"\u001b[39m] \u001b[39m=\u001b[39m \u001b[39mself\u001b[39m\u001b[39m.\u001b[39m_id\n\u001b[0;32m--> 403\u001b[0m \u001b[39mreturn\u001b[39;00m \u001b[39mself\u001b[39;49m\u001b[39m.\u001b[39;49m_parent\u001b[39m.\u001b[39;49mexecute(command, params)\n",
      "File \u001b[0;32m~/dev/PythonPr/news-crawler/.venvCrawler/lib/python3.9/site-packages/selenium/webdriver/remote/webdriver.py:440\u001b[0m, in \u001b[0;36mWebDriver.execute\u001b[0;34m(self, driver_command, params)\u001b[0m\n\u001b[1;32m    438\u001b[0m response \u001b[39m=\u001b[39m \u001b[39mself\u001b[39m\u001b[39m.\u001b[39mcommand_executor\u001b[39m.\u001b[39mexecute(driver_command, params)\n\u001b[1;32m    439\u001b[0m \u001b[39mif\u001b[39;00m response:\n\u001b[0;32m--> 440\u001b[0m     \u001b[39mself\u001b[39;49m\u001b[39m.\u001b[39;49merror_handler\u001b[39m.\u001b[39;49mcheck_response(response)\n\u001b[1;32m    441\u001b[0m     response[\u001b[39m\"\u001b[39m\u001b[39mvalue\u001b[39m\u001b[39m\"\u001b[39m] \u001b[39m=\u001b[39m \u001b[39mself\u001b[39m\u001b[39m.\u001b[39m_unwrap_value(response\u001b[39m.\u001b[39mget(\u001b[39m\"\u001b[39m\u001b[39mvalue\u001b[39m\u001b[39m\"\u001b[39m, \u001b[39mNone\u001b[39;00m))\n\u001b[1;32m    442\u001b[0m     \u001b[39mreturn\u001b[39;00m response\n",
      "File \u001b[0;32m~/dev/PythonPr/news-crawler/.venvCrawler/lib/python3.9/site-packages/selenium/webdriver/remote/errorhandler.py:245\u001b[0m, in \u001b[0;36mErrorHandler.check_response\u001b[0;34m(self, response)\u001b[0m\n\u001b[1;32m    243\u001b[0m         alert_text \u001b[39m=\u001b[39m value[\u001b[39m\"\u001b[39m\u001b[39malert\u001b[39m\u001b[39m\"\u001b[39m]\u001b[39m.\u001b[39mget(\u001b[39m\"\u001b[39m\u001b[39mtext\u001b[39m\u001b[39m\"\u001b[39m)\n\u001b[1;32m    244\u001b[0m     \u001b[39mraise\u001b[39;00m exception_class(message, screen, stacktrace, alert_text)  \u001b[39m# type: ignore[call-arg]  # mypy is not smart enough here\u001b[39;00m\n\u001b[0;32m--> 245\u001b[0m \u001b[39mraise\u001b[39;00m exception_class(message, screen, stacktrace)\n",
      "\u001b[0;31mNoSuchWindowException\u001b[0m: Message: no such window: target window already closed\nfrom unknown error: web view not found\n  (Session info: chrome=111.0.5563.64)\nStacktrace:\n0   chromedriver                        0x00000001044bed3c chromedriver + 4222268\n1   chromedriver                        0x00000001044458e8 chromedriver + 3725544\n2   chromedriver                        0x00000001040fbda4 chromedriver + 277924\n3   chromedriver                        0x00000001040d6be0 chromedriver + 125920\n4   chromedriver                        0x000000010415bf2c chromedriver + 671532\n5   chromedriver                        0x000000010416ee20 chromedriver + 749088\n6   chromedriver                        0x00000001041298f0 chromedriver + 465136\n7   chromedriver                        0x000000010412a974 chromedriver + 469364\n8   chromedriver                        0x000000010448f788 chromedriver + 4028296\n9   chromedriver                        0x0000000104493c1c chromedriver + 4045852\n10  chromedriver                        0x0000000104499c98 chromedriver + 4070552\n11  chromedriver                        0x00000001044948d8 chromedriver + 4049112\n12  chromedriver                        0x000000010446bd84 chromedriver + 3882372\n13  chromedriver                        0x00000001044b2720 chromedriver + 4171552\n14  chromedriver                        0x00000001044b2878 chromedriver + 4171896\n15  chromedriver                        0x00000001044c6014 chromedriver + 4251668\n16  libsystem_pthread.dylib             0x000000018868606c _pthread_start + 148\n17  libsystem_pthread.dylib             0x0000000188680e2c thread_start + 8\n"
     ]
    }
   ],
   "source": [
    "[paragraph.text for paragraph in paragraphs]"
   ]
  },
  {
   "cell_type": "code",
   "execution_count": null,
   "metadata": {},
   "outputs": [],
   "source": []
  }
 ],
 "metadata": {
  "kernelspec": {
   "display_name": ".venv",
   "language": "python",
   "name": "python3"
  },
  "language_info": {
   "codemirror_mode": {
    "name": "ipython",
    "version": 3
   },
   "file_extension": ".py",
   "mimetype": "text/x-python",
   "name": "python",
   "nbconvert_exporter": "python",
   "pygments_lexer": "ipython3",
   "version": "3.9.6"
  },
  "orig_nbformat": 4
 },
 "nbformat": 4,
 "nbformat_minor": 2
}
